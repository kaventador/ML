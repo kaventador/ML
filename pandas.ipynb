{
 "cells": [
  {
   "cell_type": "markdown",
   "id": "4f3b75a1",
   "metadata": {},
   "source": [
    "# Pandas"
   ]
  },
  {
   "cell_type": "code",
   "execution_count": 2,
   "id": "05d9db33",
   "metadata": {},
   "outputs": [],
   "source": [
    "import pandas as pd\n",
    "import numpy as np"
   ]
  },
  {
   "cell_type": "code",
   "execution_count": 7,
   "id": "bb7a8d73",
   "metadata": {},
   "outputs": [
    {
     "data": {
      "text/plain": [
       "0        1\n",
       "1        2\n",
       "2        3\n",
       "3    kasra\n",
       "4        0\n",
       "5      NaN\n",
       "6       -1\n",
       "dtype: object"
      ]
     },
     "execution_count": 7,
     "metadata": {},
     "output_type": "execute_result"
    }
   ],
   "source": [
    "pd.Series([1,2,3,'kasra',0,np.nan,-1])\n"
   ]
  },
  {
   "cell_type": "code",
   "execution_count": 9,
   "id": "63c87ac8",
   "metadata": {},
   "outputs": [
    {
     "data": {
      "text/plain": [
       "DatetimeIndex(['2021-01-01', '2021-01-02', '2021-01-03', '2021-01-04',\n",
       "               '2021-01-05', '2021-01-06'],\n",
       "              dtype='datetime64[ns]', freq='D')"
      ]
     },
     "execution_count": 9,
     "metadata": {},
     "output_type": "execute_result"
    }
   ],
   "source": [
    "dates = pd.date_range(\"20210101\",periods=6)\n",
    "dates"
   ]
  },
  {
   "cell_type": "code",
   "execution_count": 12,
   "id": "33b3a0b6",
   "metadata": {},
   "outputs": [
    {
     "data": {
      "text/plain": [
       "array([[ 1.29707531, -1.47253006, -1.08774103,  0.0877533 ],\n",
       "       [-1.42629594,  0.48711926,  0.73402951, -0.95823029],\n",
       "       [-0.88554142, -1.18630955,  1.05743356, -0.79017279],\n",
       "       [ 1.05639156,  0.34509338,  2.20738823,  0.21115524],\n",
       "       [ 0.26372551, -0.92625091,  1.67163279,  0.34692546],\n",
       "       [ 0.17661663, -0.73692983, -1.52268542,  0.27428254]])"
      ]
     },
     "execution_count": 12,
     "metadata": {},
     "output_type": "execute_result"
    }
   ],
   "source": [
    "np.random.randn(6,4)"
   ]
  },
  {
   "cell_type": "code",
   "execution_count": 15,
   "id": "2e69f8f8",
   "metadata": {},
   "outputs": [
    {
     "data": {
      "text/html": [
       "<div>\n",
       "<style scoped>\n",
       "    .dataframe tbody tr th:only-of-type {\n",
       "        vertical-align: middle;\n",
       "    }\n",
       "\n",
       "    .dataframe tbody tr th {\n",
       "        vertical-align: top;\n",
       "    }\n",
       "\n",
       "    .dataframe thead th {\n",
       "        text-align: right;\n",
       "    }\n",
       "</style>\n",
       "<table border=\"1\" class=\"dataframe\">\n",
       "  <thead>\n",
       "    <tr style=\"text-align: right;\">\n",
       "      <th></th>\n",
       "      <th>A</th>\n",
       "      <th>B</th>\n",
       "      <th>C</th>\n",
       "      <th>D</th>\n",
       "    </tr>\n",
       "  </thead>\n",
       "  <tbody>\n",
       "    <tr>\n",
       "      <th>2021-01-01</th>\n",
       "      <td>0.018593</td>\n",
       "      <td>-0.740848</td>\n",
       "      <td>0.368170</td>\n",
       "      <td>-0.344000</td>\n",
       "    </tr>\n",
       "    <tr>\n",
       "      <th>2021-01-02</th>\n",
       "      <td>0.604887</td>\n",
       "      <td>1.395552</td>\n",
       "      <td>-0.324094</td>\n",
       "      <td>0.252032</td>\n",
       "    </tr>\n",
       "    <tr>\n",
       "      <th>2021-01-03</th>\n",
       "      <td>1.150033</td>\n",
       "      <td>0.089048</td>\n",
       "      <td>-0.077483</td>\n",
       "      <td>-1.016755</td>\n",
       "    </tr>\n",
       "    <tr>\n",
       "      <th>2021-01-04</th>\n",
       "      <td>-0.319414</td>\n",
       "      <td>-0.419093</td>\n",
       "      <td>-0.091461</td>\n",
       "      <td>-2.105715</td>\n",
       "    </tr>\n",
       "    <tr>\n",
       "      <th>2021-01-05</th>\n",
       "      <td>-1.955262</td>\n",
       "      <td>-1.415082</td>\n",
       "      <td>-1.981244</td>\n",
       "      <td>0.885396</td>\n",
       "    </tr>\n",
       "    <tr>\n",
       "      <th>2021-01-06</th>\n",
       "      <td>1.033747</td>\n",
       "      <td>0.646630</td>\n",
       "      <td>0.350245</td>\n",
       "      <td>0.089095</td>\n",
       "    </tr>\n",
       "  </tbody>\n",
       "</table>\n",
       "</div>"
      ],
      "text/plain": [
       "                   A         B         C         D\n",
       "2021-01-01  0.018593 -0.740848  0.368170 -0.344000\n",
       "2021-01-02  0.604887  1.395552 -0.324094  0.252032\n",
       "2021-01-03  1.150033  0.089048 -0.077483 -1.016755\n",
       "2021-01-04 -0.319414 -0.419093 -0.091461 -2.105715\n",
       "2021-01-05 -1.955262 -1.415082 -1.981244  0.885396\n",
       "2021-01-06  1.033747  0.646630  0.350245  0.089095"
      ]
     },
     "execution_count": 15,
     "metadata": {},
     "output_type": "execute_result"
    }
   ],
   "source": [
    "df = pd.DataFrame(np.random.randn(6,4),index=dates,columns=['A','B','C','D'])\n",
    "df"
   ]
  },
  {
   "cell_type": "code",
   "execution_count": 22,
   "id": "d164588f",
   "metadata": {},
   "outputs": [
    {
     "data": {
      "text/plain": [
       "count    6.000000\n",
       "mean     0.088764\n",
       "std      1.151976\n",
       "min     -1.955262\n",
       "25%     -0.234912\n",
       "50%      0.311740\n",
       "75%      0.926532\n",
       "max      1.150033\n",
       "Name: A, dtype: float64"
      ]
     },
     "execution_count": 22,
     "metadata": {},
     "output_type": "execute_result"
    }
   ],
   "source": [
    "df.dtypes\n",
    "df[\"A\"].mean()\n",
    "df[\"A\"].tail()\n",
    "df[\"A\"].describe()"
   ]
  }
 ],
 "metadata": {
  "kernelspec": {
   "display_name": "Python 3 (ipykernel)",
   "language": "python",
   "name": "python3"
  },
  "language_info": {
   "codemirror_mode": {
    "name": "ipython",
    "version": 3
   },
   "file_extension": ".py",
   "mimetype": "text/x-python",
   "name": "python",
   "nbconvert_exporter": "python",
   "pygments_lexer": "ipython3",
   "version": "3.11.5"
  }
 },
 "nbformat": 4,
 "nbformat_minor": 5
}
